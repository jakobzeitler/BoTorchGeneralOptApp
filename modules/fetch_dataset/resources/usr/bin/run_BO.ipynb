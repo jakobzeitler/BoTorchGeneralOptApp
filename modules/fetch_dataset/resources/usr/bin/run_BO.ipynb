{
  "cells": [
    {
      "cell_type": "code",
      "source": [
        "!pip install git+https://github.com/matterhorn-studio/MHSapi.git"
      ],
      "metadata": {
        "id": "m1FomtyDusn2",
        "outputId": "60b88490-5eef-4a19-cfb8-b2f29db49570",
        "colab": {
          "base_uri": "https://localhost:8080/"
        }
      },
      "execution_count": 1,
      "outputs": [
        {
          "output_type": "stream",
          "name": "stdout",
          "text": [
            "Collecting git+https://github.com/matterhorn-studio/MHSapi.git\n",
            "  Cloning https://github.com/matterhorn-studio/MHSapi.git to /tmp/pip-req-build-f9q2wb90\n",
            "  Running command git clone --filter=blob:none --quiet https://github.com/matterhorn-studio/MHSapi.git /tmp/pip-req-build-f9q2wb90\n",
            "  Resolved https://github.com/matterhorn-studio/MHSapi.git to commit 1a683858079426cd7de40a7a3ab9474df278bd24\n",
            "  Installing build dependencies ... \u001b[?25l\u001b[?25hdone\n",
            "  Getting requirements to build wheel ... \u001b[?25l\u001b[?25hdone\n",
            "  Preparing metadata (pyproject.toml) ... \u001b[?25l\u001b[?25hdone\n",
            "Collecting aiopenapi3 (from MHSapi==0.0.2)\n",
            "  Downloading aiopenapi3-0.5.0-py3-none-any.whl (83 kB)\n",
            "\u001b[2K     \u001b[90m━━━━━━━━━━━━━━━━━━━━━━━━━━━━━━━━━━━━━━━━\u001b[0m \u001b[32m83.3/83.3 kB\u001b[0m \u001b[31m1.4 MB/s\u001b[0m eta \u001b[36m0:00:00\u001b[0m\n",
            "\u001b[?25hRequirement already satisfied: pandas in /usr/local/lib/python3.10/dist-packages (from MHSapi==0.0.2) (1.5.3)\n",
            "Collecting pydantic==2.4.2 (from MHSapi==0.0.2)\n",
            "  Downloading pydantic-2.4.2-py3-none-any.whl (395 kB)\n",
            "\u001b[2K     \u001b[90m━━━━━━━━━━━━━━━━━━━━━━━━━━━━━━━━━━━━━━━━\u001b[0m \u001b[32m395.8/395.8 kB\u001b[0m \u001b[31m19.7 MB/s\u001b[0m eta \u001b[36m0:00:00\u001b[0m\n",
            "\u001b[?25hRequirement already satisfied: annotated-types>=0.4.0 in /usr/local/lib/python3.10/dist-packages (from pydantic==2.4.2->MHSapi==0.0.2) (0.6.0)\n",
            "Collecting pydantic-core==2.10.1 (from pydantic==2.4.2->MHSapi==0.0.2)\n",
            "  Downloading pydantic_core-2.10.1-cp310-cp310-manylinux_2_17_x86_64.manylinux2014_x86_64.whl (2.0 MB)\n",
            "\u001b[2K     \u001b[90m━━━━━━━━━━━━━━━━━━━━━━━━━━━━━━━━━━━━━━━━\u001b[0m \u001b[32m2.0/2.0 MB\u001b[0m \u001b[31m55.9 MB/s\u001b[0m eta \u001b[36m0:00:00\u001b[0m\n",
            "\u001b[?25hRequirement already satisfied: typing-extensions>=4.6.1 in /usr/local/lib/python3.10/dist-packages (from pydantic==2.4.2->MHSapi==0.0.2) (4.9.0)\n",
            "Requirement already satisfied: PyYaml in /usr/local/lib/python3.10/dist-packages (from aiopenapi3->MHSapi==0.0.2) (6.0.1)\n",
            "Collecting email-validator (from aiopenapi3->MHSapi==0.0.2)\n",
            "  Downloading email_validator-2.1.0.post1-py3-none-any.whl (32 kB)\n",
            "Requirement already satisfied: yarl in /usr/local/lib/python3.10/dist-packages (from aiopenapi3->MHSapi==0.0.2) (1.9.4)\n",
            "Collecting httpx (from aiopenapi3->MHSapi==0.0.2)\n",
            "  Downloading httpx-0.26.0-py3-none-any.whl (75 kB)\n",
            "\u001b[2K     \u001b[90m━━━━━━━━━━━━━━━━━━━━━━━━━━━━━━━━━━━━━━━━\u001b[0m \u001b[32m75.9/75.9 kB\u001b[0m \u001b[31m10.4 MB/s\u001b[0m eta \u001b[36m0:00:00\u001b[0m\n",
            "\u001b[?25hRequirement already satisfied: more-itertools in /usr/local/lib/python3.10/dist-packages (from aiopenapi3->MHSapi==0.0.2) (10.1.0)\n",
            "Collecting jmespath (from aiopenapi3->MHSapi==0.0.2)\n",
            "  Downloading jmespath-1.0.1-py3-none-any.whl (20 kB)\n",
            "Requirement already satisfied: python-dateutil>=2.8.1 in /usr/local/lib/python3.10/dist-packages (from pandas->MHSapi==0.0.2) (2.8.2)\n",
            "Requirement already satisfied: pytz>=2020.1 in /usr/local/lib/python3.10/dist-packages (from pandas->MHSapi==0.0.2) (2023.4)\n",
            "Requirement already satisfied: numpy>=1.21.0 in /usr/local/lib/python3.10/dist-packages (from pandas->MHSapi==0.0.2) (1.23.5)\n",
            "Requirement already satisfied: six>=1.5 in /usr/local/lib/python3.10/dist-packages (from python-dateutil>=2.8.1->pandas->MHSapi==0.0.2) (1.16.0)\n",
            "Collecting dnspython>=2.0.0 (from email-validator->aiopenapi3->MHSapi==0.0.2)\n",
            "  Downloading dnspython-2.5.0-py3-none-any.whl (305 kB)\n",
            "\u001b[2K     \u001b[90m━━━━━━━━━━━━━━━━━━━━━━━━━━━━━━━━━━━━━━━━\u001b[0m \u001b[32m305.4/305.4 kB\u001b[0m \u001b[31m33.6 MB/s\u001b[0m eta \u001b[36m0:00:00\u001b[0m\n",
            "\u001b[?25hRequirement already satisfied: idna>=2.0.0 in /usr/local/lib/python3.10/dist-packages (from email-validator->aiopenapi3->MHSapi==0.0.2) (3.6)\n",
            "Requirement already satisfied: anyio in /usr/local/lib/python3.10/dist-packages (from httpx->aiopenapi3->MHSapi==0.0.2) (3.7.1)\n",
            "Requirement already satisfied: certifi in /usr/local/lib/python3.10/dist-packages (from httpx->aiopenapi3->MHSapi==0.0.2) (2024.2.2)\n",
            "Collecting httpcore==1.* (from httpx->aiopenapi3->MHSapi==0.0.2)\n",
            "  Downloading httpcore-1.0.2-py3-none-any.whl (76 kB)\n",
            "\u001b[2K     \u001b[90m━━━━━━━━━━━━━━━━━━━━━━━━━━━━━━━━━━━━━━━━\u001b[0m \u001b[32m76.9/76.9 kB\u001b[0m \u001b[31m11.8 MB/s\u001b[0m eta \u001b[36m0:00:00\u001b[0m\n",
            "\u001b[?25hRequirement already satisfied: sniffio in /usr/local/lib/python3.10/dist-packages (from httpx->aiopenapi3->MHSapi==0.0.2) (1.3.0)\n",
            "Collecting h11<0.15,>=0.13 (from httpcore==1.*->httpx->aiopenapi3->MHSapi==0.0.2)\n",
            "  Downloading h11-0.14.0-py3-none-any.whl (58 kB)\n",
            "\u001b[2K     \u001b[90m━━━━━━━━━━━━━━━━━━━━━━━━━━━━━━━━━━━━━━━━\u001b[0m \u001b[32m58.3/58.3 kB\u001b[0m \u001b[31m8.2 MB/s\u001b[0m eta \u001b[36m0:00:00\u001b[0m\n",
            "\u001b[?25hRequirement already satisfied: multidict>=4.0 in /usr/local/lib/python3.10/dist-packages (from yarl->aiopenapi3->MHSapi==0.0.2) (6.0.5)\n",
            "Requirement already satisfied: exceptiongroup in /usr/local/lib/python3.10/dist-packages (from anyio->httpx->aiopenapi3->MHSapi==0.0.2) (1.2.0)\n",
            "Building wheels for collected packages: MHSapi\n",
            "  Building wheel for MHSapi (pyproject.toml) ... \u001b[?25l\u001b[?25hdone\n",
            "  Created wheel for MHSapi: filename=mhsapi-0.0.2-py3-none-any.whl size=3171 sha256=67fa1e0397c864244c0f9b0d930c9dcc36c92a540b2cf413ce4840ed13b98e39\n",
            "  Stored in directory: /tmp/pip-ephem-wheel-cache-q96hrvkj/wheels/64/16/96/87d5f2f83db0e65d4228308d03ec637537803fd5fbb0085c45\n",
            "Successfully built MHSapi\n",
            "Installing collected packages: pydantic-core, jmespath, h11, dnspython, pydantic, httpcore, email-validator, httpx, aiopenapi3, MHSapi\n",
            "  Attempting uninstall: pydantic-core\n",
            "    Found existing installation: pydantic_core 2.16.2\n",
            "    Uninstalling pydantic_core-2.16.2:\n",
            "      Successfully uninstalled pydantic_core-2.16.2\n",
            "  Attempting uninstall: pydantic\n",
            "    Found existing installation: pydantic 2.6.1\n",
            "    Uninstalling pydantic-2.6.1:\n",
            "      Successfully uninstalled pydantic-2.6.1\n",
            "\u001b[31mERROR: pip's dependency resolver does not currently take into account all the packages that are installed. This behaviour is the source of the following dependency conflicts.\n",
            "lida 0.0.10 requires fastapi, which is not installed.\n",
            "lida 0.0.10 requires kaleido, which is not installed.\n",
            "lida 0.0.10 requires python-multipart, which is not installed.\n",
            "lida 0.0.10 requires uvicorn, which is not installed.\n",
            "llmx 0.0.15a0 requires cohere, which is not installed.\n",
            "llmx 0.0.15a0 requires openai, which is not installed.\n",
            "llmx 0.0.15a0 requires tiktoken, which is not installed.\u001b[0m\u001b[31m\n",
            "\u001b[0mSuccessfully installed MHSapi-0.0.2 aiopenapi3-0.5.0 dnspython-2.5.0 email-validator-2.1.0.post1 h11-0.14.0 httpcore-1.0.2 httpx-0.26.0 jmespath-1.0.1 pydantic-2.4.2 pydantic-core-2.10.1\n"
          ]
        }
      ]
    },
    {
      "cell_type": "code",
      "source": [
        "import pydantic\n",
        "pydantic.__version__"
      ],
      "metadata": {
        "id": "kVvUaB8Su3v4",
        "outputId": "1ea09725-ec89-41af-c07d-7880517dcf54",
        "colab": {
          "base_uri": "https://localhost:8080/",
          "height": 34
        }
      },
      "execution_count": 2,
      "outputs": [
        {
          "output_type": "execute_result",
          "data": {
            "text/plain": [
              "'2.4.2'"
            ],
            "application/vnd.google.colaboratory.intrinsic+json": {
              "type": "string"
            }
          },
          "metadata": {},
          "execution_count": 2
        }
      ]
    },
    {
      "cell_type": "code",
      "execution_count": 3,
      "metadata": {
        "pycharm": {
          "name": "#%%\n"
        },
        "tags": [
          "parameters"
        ],
        "id": "idz8AuW_ZRjc"
      },
      "outputs": [],
      "source": [
        "# Parameters, to be overwritten by papermill when run as nextflow pipeline\n",
        "project_id = \"1379\"\n",
        "opt_run_id = \"509\"\n",
        "token = \"3ebdef55ef6fb74ee4eeb1fb30a243f6b23b2deab3f1983f21b5231086b3efa0\"\n",
        "base_url = \"https://matterhorn.studio/\""
      ]
    },
    {
      "cell_type": "code",
      "execution_count": 4,
      "metadata": {
        "pycharm": {
          "name": "#%%\n"
        },
        "id": "7gg-ZRooZRje",
        "outputId": "8f429906-6197-4961-c58c-a54fc8e84356",
        "colab": {
          "base_uri": "https://localhost:8080/"
        }
      },
      "outputs": [
        {
          "output_type": "stream",
          "name": "stdout",
          "text": [
            "['/content', '/env/python', '/usr/lib/python310.zip', '/usr/lib/python3.10', '/usr/lib/python3.10/lib-dynload', '', '/usr/local/lib/python3.10/dist-packages', '/usr/lib/python3/dist-packages', '/usr/local/lib/python3.10/dist-packages/IPython/extensions', '/root/.ipython']\n"
          ]
        }
      ],
      "source": [
        "# Packages\n",
        "import sys\n",
        "print(sys.path)\n",
        "import json\n",
        "\n",
        "import numpy as np\n",
        "import pandas as pd"
      ]
    },
    {
      "cell_type": "code",
      "execution_count": 5,
      "metadata": {
        "pycharm": {
          "name": "#%%\n"
        },
        "id": "9x1qmwxmZRjf",
        "outputId": "16aefa6e-1df8-4c50-e83b-50a28d04861e",
        "colab": {
          "base_uri": "https://localhost:8080/"
        }
      },
      "outputs": [
        {
          "output_type": "stream",
          "name": "stdout",
          "text": [
            "BASE URL: https://matterhorn.studio/\n",
            "0.0.2\n",
            "/usr/local/lib/python3.10/dist-packages/MHSapi/__init__.py\n",
            "['MHSapi', '__builtins__', '__cached__', '__doc__', '__file__', '__loader__', '__name__', '__package__', '__path__', '__spec__']\n",
            "['__class__', '__delattr__', '__dir__', '__eq__', '__format__', '__ge__', '__getattribute__', '__gt__', '__hash__', '__init__', '__init_subclass__', '__le__', '__lt__', '__ne__', '__new__', '__reduce__', '__reduce_ex__', '__repr__', '__setattr__', '__sizeof__', '__str__', '__subclasshook__', 'experiment_data', 'experiment_update_data', 'experiments_create', 'experiments_list', 'get_base_url', 'open_experiment', 'opt_run_list', 'parameters_create', 'parameters_list']\n"
          ]
        }
      ],
      "source": [
        "# 1. Initialise API client\n",
        "import MHSapi\n",
        "from MHSapi.MHSapi import MHSapiClient\n",
        "from importlib.metadata import version\n",
        "\n",
        "client = MHSapi.MHSapi.MHSapiClient(token=token, base_url=base_url)\n",
        "print(version('MHSapi'))\n",
        "print(MHSapi.__file__)\n",
        "print(dir(MHSapi))\n",
        "object_methods = [method_name for method_name in dir(client)\n",
        "                  if callable(getattr(client, method_name))]\n",
        "print(object_methods)\n",
        "\n",
        "projects = client.experiments_list()\n",
        "project = [p for p in projects if int(p.id) == int(project_id)][0]\n",
        "parameters = client.parameters_list(project)\n"
      ]
    },
    {
      "cell_type": "code",
      "execution_count": 6,
      "metadata": {
        "pycharm": {
          "name": "#%%\n"
        },
        "id": "R2Cet9OQZRjf",
        "outputId": "f7703826-0ce4-4d67-85a1-0a11c9b35bf5",
        "colab": {
          "base_uri": "https://localhost:8080/"
        }
      },
      "outputs": [
        {
          "output_type": "stream",
          "name": "stdout",
          "text": [
            "Data\n",
            "      import_timestamp  disabled  Parameter 1 Parameter 2 Parameter 3  \\\n",
            "0         1.707596e+09     False            0         0.0         1.0   \n",
            "1         1.707596e+09     False            0         0.0         1.0   \n",
            "2         1.707596e+09     False            0         0.0         1.0   \n",
            "3         1.707596e+09     False            0         0.0         1.0   \n",
            "4         1.707596e+09     False            0         0.0         1.0   \n",
            "...                ...       ...          ...         ...         ...   \n",
            "1194      1.707596e+09     False            0         0.0      1.1058   \n",
            "1195      1.707596e+09     False            0         0.0      1.0168   \n",
            "1196      1.707596e+09     False            0         0.0       1.103   \n",
            "1197      1.707596e+09     False            0         0.0       1.122   \n",
            "1198      1.707596e+09     False            0         0.0      0.9902   \n",
            "\n",
            "      Parameter 4  Parameter 5  Parameter 6  Parameter 7  Parameter 8  ...  \\\n",
            "0             0.0       0.0000          1.5       0.0000       0.0000  ...   \n",
            "1             0.0       0.0000          1.5       0.0000       0.0000  ...   \n",
            "2             0.0       0.0000          1.5       0.0000       0.0000  ...   \n",
            "3             0.0       0.0000          1.5       0.0000       0.0000  ...   \n",
            "4             0.0       0.0000          1.5       0.0000       0.0000  ...   \n",
            "...           ...          ...          ...          ...          ...  ...   \n",
            "1194          0.0       3.4801          0.0       0.0000       1.2773  ...   \n",
            "1195          0.0       2.9667          0.0       0.0000       1.2570  ...   \n",
            "1196          0.0       2.4807          0.0       0.0000       0.0000  ...   \n",
            "1197          0.0       4.1133          0.0       0.9239       0.0000  ...   \n",
            "1198          0.0       4.5169          0.0       1.7999       0.7543  ...   \n",
            "\n",
            "      Parameter 63             Value 1             Value 2  \\\n",
            "0                1               205.0               35.58   \n",
            "1                1               204.0               34.99   \n",
            "2                1               204.0                34.3   \n",
            "3                1               205.0               35.65   \n",
            "4                1               204.0               35.65   \n",
            "...            ...                 ...                 ...   \n",
            "1194             0   206.0280029296880  29.632000000000000   \n",
            "1195             0               198.0              36.596   \n",
            "1196             0      205.6080078125              30.796   \n",
            "1197             0  204.77600097656200                27.4   \n",
            "1198             0     206.38798828125              23.532   \n",
            "\n",
            "                  Value 3  Value 4  Value 5      Value 6     Value 7  \\\n",
            "0                   -4.58    10.05     17.5  13710.00000  2007.00000   \n",
            "1                    -4.1     9.82     19.7  13299.00000  1897.00000   \n",
            "2                   -3.17      9.6     22.6  11238.00000  1540.00000   \n",
            "3                   -4.46     9.56     19.2  15814.00000  2230.00000   \n",
            "4                    -4.5     9.82     15.7  13767.00000  2025.00000   \n",
            "...                   ...      ...      ...          ...         ...   \n",
            "1194                 -3.6    8.868      9.6   1645.54140   161.70060   \n",
            "1195               -7.292   15.368    17.72   2057.71256   285.70424   \n",
            "1196               -3.104   10.908    17.36    440.00000    70.00000   \n",
            "1197               -0.544    7.388    10.84    296.00000    46.40000   \n",
            "1198  -2.8600000000000000    7.192    11.24   1246.04580   155.35940   \n",
            "\n",
            "        Value 8             Value 9  \n",
            "0     856.00000                 6.4  \n",
            "1     809.00000                 6.6  \n",
            "2     649.00000                 6.9  \n",
            "3     942.00000                 6.7  \n",
            "4     863.00000                 6.4  \n",
            "...         ...                 ...  \n",
            "1194   57.07080  11.533333333333300  \n",
            "1195  118.77592   6.929729729729730  \n",
            "1196   31.60000  5.5696202531645600  \n",
            "1197   20.80000   5.692307692307690  \n",
            "1198   60.24140   8.273684210526320  \n",
            "\n",
            "[1199 rows x 74 columns]\n"
          ]
        }
      ],
      "source": [
        "# 2. Download dataset\n",
        "dataset = client.experiment_data(project)\n",
        "print(\"Data\")\n",
        "print(dataset)"
      ]
    },
    {
      "cell_type": "code",
      "execution_count": 7,
      "metadata": {
        "pycharm": {
          "name": "#%%\n"
        },
        "id": "qVQnno-wZRjf",
        "outputId": "2b9c6764-b17f-468b-a7e8-cab6c3f0ec42",
        "colab": {
          "base_uri": "https://localhost:8080/"
        }
      },
      "outputs": [
        {
          "output_type": "stream",
          "name": "stdout",
          "text": [
            "[OptimisationRun(id=509, experiment=1379, opt_app=24, run_options_string=\"{'sum_constraints': [{'sum_value': '1', 'parameters': ['Parameter 1', 'Parameter 2']}], 'group_activations': [{'parameters': ['Parameter 2'], 'maximum_active': '2', 'minimum_active': '1'}]}\"), OptimisationRun(id=510, experiment=1379, opt_app=22, run_options_string=\"{'batch_size': 3}\")]\n",
            "id=509 experiment=1379 opt_app=24 run_options_string=\"{'sum_constraints': [{'sum_value': '1', 'parameters': ['Parameter 1', 'Parameter 2']}], 'group_activations': [{'parameters': ['Parameter 2'], 'maximum_active': '2', 'minimum_active': '1'}]}\"\n"
          ]
        },
        {
          "output_type": "execute_result",
          "data": {
            "text/plain": [
              "1"
            ]
          },
          "metadata": {},
          "execution_count": 7
        }
      ],
      "source": [
        "# 3. Get OptApp options\n",
        "\n",
        "opt_runs = client.opt_run_list(project)\n",
        "print(opt_runs)\n",
        "opt_run = [p for p in opt_runs if int(p.id) == int(opt_run_id)][0]\n",
        "print(opt_run)\n",
        "#type = type(opt_run.run_options)\n",
        "#method_list = [func for func in dir(type) if callable(getattr(type, func))]\n",
        "#print(method_list)\n",
        "run_options = json.loads(opt_run.run_options_string.replace(\"'\",\"\\\"\"))\n",
        "\n",
        "batch_size = 1\n",
        "if 'batch_size' in run_options.keys():\n",
        "    batch_size = run_options['batch_size']\n",
        "batch_size"
      ]
    },
    {
      "cell_type": "code",
      "execution_count": null,
      "metadata": {
        "pycharm": {
          "name": "#%%\n"
        },
        "id": "2BgJVad6ZRjf"
      },
      "outputs": [],
      "source": [
        "|\n",
        "\n",
        "\n",
        "\n",
        "\n",
        "# 4. Do BO\n",
        "import torch\n",
        "from botorch.models import SingleTaskGP\n",
        "from botorch.fit import fit_gpytorch_mll\n",
        "from botorch.utils import standardize\n",
        "from gpytorch.mlls import ExactMarginalLogLikelihood\n",
        "\n",
        "from botorch.models.transforms.input import Normalize\n",
        "from botorch.models.transforms.outcome import Standardize\n",
        "\n",
        "inputs = [p for p in parameters if p.outcome == False and p.timestamp == False]\n",
        "outcome = [p for p in parameters if p.outcome == True][0]\n",
        "X = dataset[[i.parameter_text for i in inputs]]\n",
        "Y = dataset[[outcome.parameter_text]]\n",
        "train_X = torch.tensor(X.to_numpy(dtype=np.float64))\n",
        "train_Y = torch.tensor(Y.to_numpy(dtype=np.float64))\n",
        "#train_Y = standardize(train_Y)\n",
        "print(train_X.shape)\n",
        "print(train_X)\n",
        "print(train_Y.shape)\n",
        "print(train_Y)\n",
        "\n",
        "gp = SingleTaskGP(train_X, train_Y, input_transform=Normalize(d=train_X.shape[-1]), outcome_transform=Standardize(m=train_Y.shape[-1]))\n",
        "\n",
        "mll = ExactMarginalLogLikelihood(gp.likelihood, gp)\n",
        "fit_gpytorch_mll(mll)\n",
        "\n",
        "#from botorch.acquisition import UpperConfidenceBound\n",
        "#UCB = UpperConfidenceBound(gp, beta=0.1)\n",
        "\n",
        "from botorch.optim import optimize_acqf\n",
        "\n",
        "from botorch import fit_gpytorch_mll\n",
        "from botorch.acquisition.monte_carlo import (\n",
        "    qExpectedImprovement,\n",
        "    qNoisyExpectedImprovement,\n",
        ")\n",
        "from botorch.sampling.normal import SobolQMCNormalSampler\n",
        "from botorch.exceptions import BadInitialCandidatesWarning\n",
        "\n",
        "upper_bounds = torch.tensor([p.upper_bound for p in inputs])\n",
        "lower_bounds = torch.tensor([p.lower_bound for p in inputs])\n",
        "bounds = torch.stack([lower_bounds, upper_bounds])\n",
        "print(f\"batch_size={batch_size}\")\n",
        "\n",
        "SMOKE_TEST = False\n",
        "MC_SAMPLES = 256 if not SMOKE_TEST else 32\n",
        "qmc_sampler = SobolQMCNormalSampler(sample_shape=torch.Size([MC_SAMPLES]))\n",
        "\n",
        "qNEI = qNoisyExpectedImprovement(\n",
        "    model=gp,\n",
        "    X_baseline=train_X,\n",
        "    sampler=qmc_sampler,\n",
        ")\n",
        "candidates, acq_value = optimize_acqf(\n",
        "    acq_function=qNEI, bounds=bounds, q=int(batch_size), num_restarts=5, raw_samples=20,\n",
        ")\n",
        "candidates  # tensor([0.4887, 0.5063])\n",
        "print(\"Candidates (raw):\")\n",
        "print(candidates.detach())\n",
        "\n",
        "candidates = pd.DataFrame(candidates.numpy())\n",
        "candidates.columns = [input.parameter_text for input in inputs]\n",
        "candidates[outcome.parameter_text] = np.nan\n",
        "candidates[\"opt_run_id\"] = opt_run_id\n",
        "\n",
        "print(candidates)\n"
      ]
    },
    {
      "cell_type": "code",
      "execution_count": null,
      "metadata": {
        "pycharm": {
          "name": "#%%\n"
        },
        "id": "YrwAF0vTZRjg"
      },
      "outputs": [],
      "source": [
        "# 5. Upload candidates\n",
        "client.experiment_update_data(project, candidates)\n"
      ]
    }
  ],
  "metadata": {
    "celltoolbar": "Tags",
    "kernelspec": {
      "display_name": "Python 3 (ipykernel)",
      "language": "python",
      "name": "python3"
    },
    "language_info": {
      "codemirror_mode": {
        "name": "ipython",
        "version": 3
      },
      "file_extension": ".py",
      "mimetype": "text/x-python",
      "name": "python",
      "nbconvert_exporter": "python",
      "pygments_lexer": "ipython3",
      "version": "3.9.6"
    },
    "colab": {
      "provenance": []
    }
  },
  "nbformat": 4,
  "nbformat_minor": 0
}