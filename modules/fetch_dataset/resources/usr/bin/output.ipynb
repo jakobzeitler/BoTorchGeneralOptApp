{
 "cells": [
  {
   "cell_type": "code",
   "execution_count": 1,
   "id": "301d0726",
   "metadata": {
    "execution": {
     "iopub.execute_input": "2024-01-18T12:18:55.900300Z",
     "iopub.status.busy": "2024-01-18T12:18:55.899947Z",
     "iopub.status.idle": "2024-01-18T12:18:55.907112Z",
     "shell.execute_reply": "2024-01-18T12:18:55.906619Z"
    },
    "papermill": {
     "duration": 0.016488,
     "end_time": "2024-01-18T12:18:55.908834",
     "exception": false,
     "start_time": "2024-01-18T12:18:55.892346",
     "status": "completed"
    },
    "pycharm": {
     "name": "#%%\n"
    },
    "tags": [
     "parameters"
    ]
   },
   "outputs": [],
   "source": [
    "# Parameters, to be overwritten by papermill when run as nextflow pipeline\n",
    "project_id = \"1\"\n",
    "opt_run_id = \"1\"\n",
    "token = \"1e9549ad7e940941de51ddff92b1dc9cbe896e98b039644b9eff165e0dec9e55\"\n",
    "base_url = \"https://mhs.ngrok.app/\""
   ]
  },
  {
   "cell_type": "code",
   "execution_count": 2,
   "id": "683953e2",
   "metadata": {
    "execution": {
     "iopub.execute_input": "2024-01-18T12:18:55.917332Z",
     "iopub.status.busy": "2024-01-18T12:18:55.916995Z",
     "iopub.status.idle": "2024-01-18T12:18:55.919734Z",
     "shell.execute_reply": "2024-01-18T12:18:55.919291Z"
    },
    "papermill": {
     "duration": 0.006915,
     "end_time": "2024-01-18T12:18:55.921217",
     "exception": false,
     "start_time": "2024-01-18T12:18:55.914302",
     "status": "completed"
    },
    "tags": [
     "injected-parameters"
    ]
   },
   "outputs": [],
   "source": [
    "# Parameters\n",
    "project_id = \"181\"\n",
    "opt_run_id = \"223\"\n",
    "token = \"1e9549ad7e940941de51ddff92b1dc9cbe896e98b039644b9eff165e0dec9e55\"\n",
    "base_url = \"https://mhs.ngrok.app/\"\n"
   ]
  },
  {
   "cell_type": "code",
   "execution_count": 3,
   "id": "df6b249a",
   "metadata": {
    "execution": {
     "iopub.execute_input": "2024-01-18T12:18:55.925298Z",
     "iopub.status.busy": "2024-01-18T12:18:55.925119Z",
     "iopub.status.idle": "2024-01-18T12:18:56.179292Z",
     "shell.execute_reply": "2024-01-18T12:18:56.178172Z"
    },
    "papermill": {
     "duration": 0.259276,
     "end_time": "2024-01-18T12:18:56.182139",
     "exception": false,
     "start_time": "2024-01-18T12:18:55.922863",
     "status": "completed"
    },
    "pycharm": {
     "name": "#%%\n"
    },
    "tags": []
   },
   "outputs": [
    {
     "name": "stdout",
     "output_type": "stream",
     "text": [
      "['/Users/jakobzeitler/MatterhornStudioLocalDev/BoTorchGeneralOptApp/work/9e/c8fa8552514d9c5dfc8346f26a233a', '/Users/jakobzeitler/MatterhornStudioLocalDev/BoTorchGeneralOptApp/conda_env/MSFlow-BoTorch-48b5b26fd6a232ba29faa5e715d3de8c/lib/python310.zip', '/Users/jakobzeitler/MatterhornStudioLocalDev/BoTorchGeneralOptApp/conda_env/MSFlow-BoTorch-48b5b26fd6a232ba29faa5e715d3de8c/lib/python3.10', '/Users/jakobzeitler/MatterhornStudioLocalDev/BoTorchGeneralOptApp/conda_env/MSFlow-BoTorch-48b5b26fd6a232ba29faa5e715d3de8c/lib/python3.10/lib-dynload', '', '/Users/jakobzeitler/MatterhornStudioLocalDev/BoTorchGeneralOptApp/conda_env/MSFlow-BoTorch-48b5b26fd6a232ba29faa5e715d3de8c/lib/python3.10/site-packages']\n"
     ]
    }
   ],
   "source": [
    "# Packages\n",
    "import sys\n",
    "print(sys.path)\n",
    "import json\n",
    "\n",
    "import numpy as np\n",
    "import pandas as pd"
   ]
  },
  {
   "cell_type": "code",
   "execution_count": 4,
   "id": "a72be260",
   "metadata": {
    "execution": {
     "iopub.execute_input": "2024-01-18T12:18:56.190862Z",
     "iopub.status.busy": "2024-01-18T12:18:56.189965Z",
     "iopub.status.idle": "2024-01-18T12:18:57.271446Z",
     "shell.execute_reply": "2024-01-18T12:18:57.270937Z"
    },
    "papermill": {
     "duration": 1.087519,
     "end_time": "2024-01-18T12:18:57.273074",
     "exception": false,
     "start_time": "2024-01-18T12:18:56.185555",
     "status": "completed"
    },
    "pycharm": {
     "name": "#%%\n"
    },
    "tags": []
   },
   "outputs": [
    {
     "name": "stdout",
     "output_type": "stream",
     "text": [
      "BASE URL: https://mhs.ngrok.app/\n"
     ]
    },
    {
     "name": "stdout",
     "output_type": "stream",
     "text": [
      "0.0.2\n",
      "/Users/jakobzeitler/MatterhornStudioLocalDev/BoTorchGeneralOptApp/conda_env/MSFlow-BoTorch-48b5b26fd6a232ba29faa5e715d3de8c/lib/python3.10/site-packages/MHSapi/__init__.py\n",
      "['MHSapi', '__builtins__', '__cached__', '__doc__', '__file__', '__loader__', '__name__', '__package__', '__path__', '__spec__']\n",
      "['__class__', '__delattr__', '__dir__', '__eq__', '__format__', '__ge__', '__getattribute__', '__gt__', '__hash__', '__init__', '__init_subclass__', '__le__', '__lt__', '__ne__', '__new__', '__reduce__', '__reduce_ex__', '__repr__', '__setattr__', '__sizeof__', '__str__', '__subclasshook__', 'experiment_data', 'experiment_update_data', 'experiments_create', 'experiments_list', 'get_base_url', 'open_experiment', 'opt_run_list', 'parameters_create', 'parameters_list']\n",
      "{}\n",
      "[Experiment(id=181, url='http://localhost:8000/experiments/181/', name_text='Photonite-2024', data_table_json=''), Experiment(id=180, url='http://localhost:8000/experiments/180/', name_text='Photonite-2024', data_table_json=''), Experiment(id=179, url='http://localhost:8000/experiments/179/', name_text='Photonite-2024', data_table_json=''), Experiment(id=178, url='http://localhost:8000/experiments/178/', name_text='Photonite-2024', data_table_json=''), Experiment(id=177, url='http://localhost:8000/experiments/177/', name_text='Photonite-2024', data_table_json=''), Experiment(id=176, url='http://localhost:8000/experiments/176/', name_text='Photonite-2024', data_table_json=''), Experiment(id=170, url='http://localhost:8000/experiments/170/', name_text='Photonite-2023', data_table_json=''), Experiment(id=162, url='http://localhost:8000/experiments/162/', name_text='SyngasFermentationSim', data_table_json=''), Experiment(id=161, url='http://localhost:8000/experiments/161/', name_text='Photonite-2023', data_table_json='')]\n"
     ]
    }
   ],
   "source": [
    "# 1. Initialise API client\n",
    "import MHSapi\n",
    "from MHSapi.MHSapi import MHSapiClient\n",
    "from importlib.metadata import version\n",
    "\n",
    "client = MHSapi.MHSapi.MHSapiClient(token=token, base_url=base_url)\n",
    "print(version('MHSapi'))\n",
    "print(MHSapi.__file__)\n",
    "print(dir(MHSapi))\n",
    "object_methods = [method_name for method_name in dir(client)\n",
    "                  if callable(getattr(client, method_name))]\n",
    "print(object_methods)\n",
    "\n",
    "projects = client.experiments_list()\n",
    "project = [p for p in projects if int(p.id) == int(project_id)][0]\n",
    "parameters = client.parameters_list(project)\n"
   ]
  },
  {
   "cell_type": "code",
   "execution_count": 5,
   "id": "b7f152ab",
   "metadata": {
    "execution": {
     "iopub.execute_input": "2024-01-18T12:18:57.278062Z",
     "iopub.status.busy": "2024-01-18T12:18:57.277822Z",
     "iopub.status.idle": "2024-01-18T12:18:57.467427Z",
     "shell.execute_reply": "2024-01-18T12:18:57.466966Z"
    },
    "papermill": {
     "duration": 0.193307,
     "end_time": "2024-01-18T12:18:57.468701",
     "exception": false,
     "start_time": "2024-01-18T12:18:57.275394",
     "status": "completed"
    },
    "pycharm": {
     "name": "#%%\n"
    },
    "tags": []
   },
   "outputs": [
    {
     "name": "stdout",
     "output_type": "stream",
     "text": [
      "{\"import_timestamp\":{\"0\":1704909395.6911211014,\"1\":1704909395.6911211014,\"2\":1704909395.6911211014,\"3\":1704909395.6911211014,\"4\":1704909395.6911211014,\"5\":1704909395.6911211014,\"6\":1704909395.6911211014,\"7\":1704909395.6911211014,\"8\":1704909395.6911211014},\"disabled\":{\"0\":0.0,\"1\":0.0,\"2\":0.0,\"3\":0.0,\"4\":0.0,\"5\":0.0,\"6\":0.0,\"7\":0.0,\"8\":0.0},\"Temperature (Celsius)\":{\"0\":10.5,\"1\":12.3,\"2\":11.7,\"3\":25.5,\"4\":28.0,\"5\":15.0,\"6\":13.5,\"7\":25.0,\"8\":26.8},\"Biomass Yield (g\\/m3)\":{\"0\":910.6302258842,\"1\":955.2308874596,\"2\":934.0850461644,\"3\":977.3216897534,\"4\":918.4279047088,\"5\":962.6146346605,\"6\":959.1759260206,\"7\":979.7014651398,\"8\":946.5538356882}}\n",
      "Data\n",
      "   import_timestamp  disabled  Temperature (Celsius)  Biomass Yield (g/m3)\n",
      "0      1.704909e+09         0                   10.5            910.630226\n",
      "1      1.704909e+09         0                   12.3            955.230887\n",
      "2      1.704909e+09         0                   11.7            934.085046\n",
      "3      1.704909e+09         0                   25.5            977.321690\n",
      "4      1.704909e+09         0                   28.0            918.427905\n",
      "5      1.704909e+09         0                   15.0            962.614635\n",
      "6      1.704909e+09         0                   13.5            959.175926\n",
      "7      1.704909e+09         0                   25.0            979.701465\n",
      "8      1.704909e+09         0                   26.8            946.553836\n"
     ]
    }
   ],
   "source": [
    "# 2. Download dataset\n",
    "dataset = client.experiment_data(project)\n",
    "print(\"Data\")\n",
    "print(dataset)"
   ]
  },
  {
   "cell_type": "code",
   "execution_count": 6,
   "id": "926f40be",
   "metadata": {
    "execution": {
     "iopub.execute_input": "2024-01-18T12:18:57.472749Z",
     "iopub.status.busy": "2024-01-18T12:18:57.472584Z",
     "iopub.status.idle": "2024-01-18T12:18:57.613415Z",
     "shell.execute_reply": "2024-01-18T12:18:57.613114Z"
    },
    "papermill": {
     "duration": 0.143958,
     "end_time": "2024-01-18T12:18:57.614446",
     "exception": false,
     "start_time": "2024-01-18T12:18:57.470488",
     "status": "completed"
    },
    "pycharm": {
     "name": "#%%\n"
    },
    "tags": []
   },
   "outputs": [
    {
     "name": "stdout",
     "output_type": "stream",
     "text": [
      "[OptimisationRun(id=220, experiment=181, opt_app=21, run_options=FWDc379e193_e526_4d16_aa49_400695aa7c15(root={'batch_size': 10})), OptimisationRun(id=215, experiment=181, opt_app=None, run_options=FWDc379e193_e526_4d16_aa49_400695aa7c15(root={})), OptimisationRun(id=216, experiment=181, opt_app=3, run_options=FWDc379e193_e526_4d16_aa49_400695aa7c15(root={'batch_size': 1})), OptimisationRun(id=221, experiment=181, opt_app=21, run_options=FWDc379e193_e526_4d16_aa49_400695aa7c15(root={'batch_size': 2})), OptimisationRun(id=217, experiment=181, opt_app=3, run_options=FWDc379e193_e526_4d16_aa49_400695aa7c15(root={'batch_size': 3})), OptimisationRun(id=222, experiment=181, opt_app=21, run_options=FWDc379e193_e526_4d16_aa49_400695aa7c15(root={'batch_size': 2})), OptimisationRun(id=218, experiment=181, opt_app=3, run_options=FWDc379e193_e526_4d16_aa49_400695aa7c15(root={'batch_size': 1})), OptimisationRun(id=223, experiment=181, opt_app=21, run_options=FWDc379e193_e526_4d16_aa49_400695aa7c15(root={'batch_size': 20})), OptimisationRun(id=219, experiment=181, opt_app=21, run_options=FWDc379e193_e526_4d16_aa49_400695aa7c15(root={'batch_size': 5}))]\n",
      "id=223 experiment=181 opt_app=21 run_options=FWDc379e193_e526_4d16_aa49_400695aa7c15(root={'batch_size': 20})\n"
     ]
    },
    {
     "name": "stderr",
     "output_type": "stream",
     "text": [
      "/tmp/ipykernel_4142/4232612496.py:11: PydanticDeprecatedSince20: The `json` method is deprecated; use `model_dump_json` instead. Deprecated in Pydantic V2.0 to be removed in V3.0. See Pydantic V2 Migration Guide at https://errors.pydantic.dev/2.5/migration/\n",
      "  run_options = json.loads(opt_run.run_options.json())\n"
     ]
    }
   ],
   "source": [
    "# 3. Get OptApp options\n",
    "\n",
    "opt_runs = client.opt_run_list(project)\n",
    "print(opt_runs)\n",
    "opt_run = [p for p in opt_runs if int(p.id) == int(opt_run_id)][0]\n",
    "print(opt_run)\n",
    "#type = type(opt_run.run_options)\n",
    "#method_list = [func for func in dir(type) if callable(getattr(type, func))]\n",
    "#print(method_list)\n",
    "import json\n",
    "run_options = json.loads(opt_run.run_options.json())\n",
    "\n",
    "batch_size = 1\n",
    "if 'batch_size' in run_options.keys():\n",
    "    batch_size = run_options['batch_size']"
   ]
  },
  {
   "cell_type": "code",
   "execution_count": 7,
   "id": "e1531e7d",
   "metadata": {
    "execution": {
     "iopub.execute_input": "2024-01-18T12:18:57.617800Z",
     "iopub.status.busy": "2024-01-18T12:18:57.617669Z",
     "iopub.status.idle": "2024-01-18T12:18:58.979870Z",
     "shell.execute_reply": "2024-01-18T12:18:58.979520Z"
    },
    "papermill": {
     "duration": 1.36488,
     "end_time": "2024-01-18T12:18:58.980843",
     "exception": false,
     "start_time": "2024-01-18T12:18:57.615963",
     "status": "completed"
    },
    "pycharm": {
     "name": "#%%\n"
    },
    "tags": []
   },
   "outputs": [
    {
     "name": "stderr",
     "output_type": "stream",
     "text": [
      "/Users/jakobzeitler/MatterhornStudioLocalDev/BoTorchGeneralOptApp/conda_env/MSFlow-BoTorch-48b5b26fd6a232ba29faa5e715d3de8c/lib/python3.10/site-packages/tqdm/auto.py:21: TqdmWarning: IProgress not found. Please update jupyter and ipywidgets. See https://ipywidgets.readthedocs.io/en/stable/user_install.html\n",
      "  from .autonotebook import tqdm as notebook_tqdm\n"
     ]
    },
    {
     "name": "stdout",
     "output_type": "stream",
     "text": [
      "torch.Size([9, 1])\n",
      "tensor([[10.5000],\n",
      "        [12.3000],\n",
      "        [11.7000],\n",
      "        [25.5000],\n",
      "        [28.0000],\n",
      "        [15.0000],\n",
      "        [13.5000],\n",
      "        [25.0000],\n",
      "        [26.8000]], dtype=torch.float64)\n",
      "torch.Size([9, 1])\n",
      "tensor([[910.6302],\n",
      "        [955.2309],\n",
      "        [934.0850],\n",
      "        [977.3217],\n",
      "        [918.4279],\n",
      "        [962.6146],\n",
      "        [959.1759],\n",
      "        [979.7015],\n",
      "        [946.5538]], dtype=torch.float64)\n",
      "batch_size=20\n"
     ]
    },
    {
     "name": "stdout",
     "output_type": "stream",
     "text": [
      "Candidates (raw):\n",
      "tensor([[25.5000],\n",
      "        [18.5169],\n",
      "        [16.6918],\n",
      "        [26.7318],\n",
      "        [24.5679],\n",
      "        [22.6720],\n",
      "        [15.5706],\n",
      "        [21.0932],\n",
      "        [29.7778],\n",
      "        [12.7357],\n",
      "        [20.3891],\n",
      "        [23.2276],\n",
      "        [29.9837],\n",
      "        [27.3524],\n",
      "        [21.6747],\n",
      "        [22.0567],\n",
      "        [13.4105],\n",
      "        [19.6032],\n",
      "        [17.6565],\n",
      "        [23.9311]])\n",
      "    Temperature (Celsius)  Biomass Yield (g/m3) opt_run_id\n",
      "0               25.500023                   NaN        223\n",
      "1               18.516909                   NaN        223\n",
      "2               16.691822                   NaN        223\n",
      "3               26.731819                   NaN        223\n",
      "4               24.567850                   NaN        223\n",
      "5               22.672024                   NaN        223\n",
      "6               15.570608                   NaN        223\n",
      "7               21.093176                   NaN        223\n",
      "8               29.777769                   NaN        223\n",
      "9               12.735729                   NaN        223\n",
      "10              20.389059                   NaN        223\n",
      "11              23.227636                   NaN        223\n",
      "12              29.983700                   NaN        223\n",
      "13              27.352356                   NaN        223\n",
      "14              21.674725                   NaN        223\n",
      "15              22.056683                   NaN        223\n",
      "16              13.410522                   NaN        223\n",
      "17              19.603243                   NaN        223\n",
      "18              17.656477                   NaN        223\n",
      "19              23.931107                   NaN        223\n"
     ]
    }
   ],
   "source": [
    "\n",
    "\n",
    "\n",
    "\n",
    "\n",
    "# 4. Do BO\n",
    "import torch\n",
    "from botorch.models import SingleTaskGP\n",
    "from botorch.fit import fit_gpytorch_mll\n",
    "from botorch.utils import standardize\n",
    "from gpytorch.mlls import ExactMarginalLogLikelihood\n",
    "\n",
    "from botorch.models.transforms.input import Normalize\n",
    "from botorch.models.transforms.outcome import Standardize\n",
    "\n",
    "inputs = [p for p in parameters if p.outcome == False and p.timestamp == False]\n",
    "outcome = [p for p in parameters if p.outcome == True][0]\n",
    "X = dataset[[i.parameter_text for i in inputs]]\n",
    "Y = dataset[[outcome.parameter_text]]\n",
    "train_X = torch.tensor(X.to_numpy(dtype=np.float64))\n",
    "train_Y = torch.tensor(Y.to_numpy(dtype=np.float64))\n",
    "#train_Y = standardize(train_Y)\n",
    "print(train_X.shape)\n",
    "print(train_X)\n",
    "print(train_Y.shape)\n",
    "print(train_Y)\n",
    "\n",
    "gp = SingleTaskGP(train_X, train_Y, input_transform=Normalize(d=train_X.shape[-1]), outcome_transform=Standardize(m=train_Y.shape[-1]))\n",
    "\n",
    "mll = ExactMarginalLogLikelihood(gp.likelihood, gp)\n",
    "fit_gpytorch_mll(mll)\n",
    "\n",
    "#from botorch.acquisition import UpperConfidenceBound\n",
    "#UCB = UpperConfidenceBound(gp, beta=0.1)\n",
    "\n",
    "from botorch.optim import optimize_acqf\n",
    "\n",
    "from botorch import fit_gpytorch_mll\n",
    "from botorch.acquisition.monte_carlo import (\n",
    "    qExpectedImprovement,\n",
    "    qNoisyExpectedImprovement,\n",
    ")\n",
    "from botorch.sampling.normal import SobolQMCNormalSampler\n",
    "from botorch.exceptions import BadInitialCandidatesWarning\n",
    "\n",
    "upper_bounds = torch.tensor([p.upper_bound for p in inputs])\n",
    "lower_bounds = torch.tensor([p.lower_bound for p in inputs])\n",
    "bounds = torch.stack([lower_bounds, upper_bounds])\n",
    "print(f\"batch_size={batch_size}\")\n",
    "\n",
    "SMOKE_TEST = False\n",
    "MC_SAMPLES = 256 if not SMOKE_TEST else 32\n",
    "qmc_sampler = SobolQMCNormalSampler(sample_shape=torch.Size([MC_SAMPLES]))\n",
    "\n",
    "qNEI = qNoisyExpectedImprovement(\n",
    "    model=gp,\n",
    "    X_baseline=train_X,\n",
    "    sampler=qmc_sampler,\n",
    ")\n",
    "candidates, acq_value = optimize_acqf(\n",
    "    acq_function=qNEI, bounds=bounds, q=int(batch_size), num_restarts=5, raw_samples=20,\n",
    ")\n",
    "candidates  # tensor([0.4887, 0.5063])\n",
    "print(\"Candidates (raw):\")\n",
    "print(candidates.detach())\n",
    "\n",
    "candidates = pd.DataFrame(candidates.numpy())\n",
    "candidates.columns = [input.parameter_text for input in inputs]\n",
    "candidates[outcome.parameter_text] = np.nan\n",
    "candidates[\"opt_run_id\"] = opt_run_id\n",
    "\n",
    "print(candidates)\n"
   ]
  },
  {
   "cell_type": "code",
   "execution_count": 8,
   "id": "922bf9cf",
   "metadata": {
    "execution": {
     "iopub.execute_input": "2024-01-18T12:18:58.983950Z",
     "iopub.status.busy": "2024-01-18T12:18:58.983770Z",
     "iopub.status.idle": "2024-01-18T12:18:59.668400Z",
     "shell.execute_reply": "2024-01-18T12:18:59.667540Z"
    },
    "papermill": {
     "duration": 0.688907,
     "end_time": "2024-01-18T12:18:59.671099",
     "exception": false,
     "start_time": "2024-01-18T12:18:58.982192",
     "status": "completed"
    },
    "pycharm": {
     "name": "#%%\n"
    },
    "tags": []
   },
   "outputs": [],
   "source": [
    "# 5. Upload candidates\n",
    "client.experiment_update_data(project, candidates)\n"
   ]
  }
 ],
 "metadata": {
  "celltoolbar": "Tags",
  "kernelspec": {
   "display_name": "Python 3 (ipykernel)",
   "language": "python",
   "name": "python3"
  },
  "language_info": {
   "codemirror_mode": {
    "name": "ipython",
    "version": 3
   },
   "file_extension": ".py",
   "mimetype": "text/x-python",
   "name": "python",
   "nbconvert_exporter": "python",
   "pygments_lexer": "ipython3",
   "version": "3.10.13"
  },
  "papermill": {
   "default_parameters": {},
   "duration": 5.144596,
   "end_time": "2024-01-18T12:19:00.095229",
   "environment_variables": {},
   "exception": null,
   "input_path": "/Users/jakobzeitler/MatterhornStudioLocalDev/BoTorchGeneralOptApp/modules/fetch_dataset/resources/usr/bin/run_BO.ipynb",
   "output_path": "/Users/jakobzeitler/MatterhornStudioLocalDev/BoTorchGeneralOptApp/modules/fetch_dataset/resources/usr/bin/output.ipynb",
   "parameters": {
    "base_url": "https://mhs.ngrok.app/",
    "opt_run_id": "223",
    "project_id": "181",
    "token": "1e9549ad7e940941de51ddff92b1dc9cbe896e98b039644b9eff165e0dec9e55"
   },
   "start_time": "2024-01-18T12:18:54.950633",
   "version": "2.5.0"
  }
 },
 "nbformat": 4,
 "nbformat_minor": 5
}